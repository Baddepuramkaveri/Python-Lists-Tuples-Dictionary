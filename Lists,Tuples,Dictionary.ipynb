{
  "nbformat": 4,
  "nbformat_minor": 0,
  "metadata": {
    "colab": {
      "provenance": [],
      "authorship_tag": "ABX9TyOjJa0Nz9Wv2OF+tMC3D3uG",
      "include_colab_link": true
    },
    "kernelspec": {
      "name": "python3",
      "display_name": "Python 3"
    },
    "language_info": {
      "name": "python"
    }
  },
  "cells": [
    {
      "cell_type": "markdown",
      "metadata": {
        "id": "view-in-github",
        "colab_type": "text"
      },
      "source": [
        "<a href=\"https://colab.research.google.com/github/Baddepuramkaveri/Python-Lists-Tuples-Dictionary/blob/main/Lists%2CTuples%2CDictionary.ipynb\" target=\"_parent\"><img src=\"https://colab.research.google.com/assets/colab-badge.svg\" alt=\"Open In Colab\"/></a>"
      ]
    },
    {
      "cell_type": "markdown",
      "source": [
        "** Basic Arithmetic Operations **"
      ],
      "metadata": {
        "id": "XoosN4QF9jcc"
      }
    },
    {
      "cell_type": "code",
      "execution_count": null,
      "metadata": {
        "colab": {
          "base_uri": "https://localhost:8080/"
        },
        "id": "V2LSmwPF5-bR",
        "outputId": "da691f74-5940-4e2c-a284-6049f8114e79"
      },
      "outputs": [
        {
          "output_type": "stream",
          "name": "stdout",
          "text": [
            "Enter a value : 10\n",
            "10\n",
            "Enter b value : 5\n",
            "5\n",
            "Sum of the values :  15\n",
            "Sub of the values :  5\n",
            "Product of the values :  50\n",
            "Division of the values :  2.0\n",
            "Modulus of the values :  0\n"
          ]
        }
      ],
      "source": [
        "#Basic arithmetic operations\n",
        "a = int(input(\"Enter a value : \"))\n",
        "print(a)\n",
        "b = int(input(\"Enter b value : \"))\n",
        "print(b)\n",
        "c = a+b\n",
        "print(\"Sum of the values : \",c)\n",
        "c = a-b\n",
        "print(\"Sub of the values : \",c)\n",
        "c = a*b\n",
        "print(\"Product of the values : \",c)\n",
        "c = a/b\n",
        "print(\"Division of the values : \",c)\n",
        "c = a%b\n",
        "print(\"Modulus of the values : \",c)"
      ]
    },
    {
      "cell_type": "markdown",
      "source": [
        "** Conditional Statements **"
      ],
      "metadata": {
        "id": "1hx6j71O9hgv"
      }
    },
    {
      "cell_type": "code",
      "source": [
        "#if\n",
        "n = int(input(\"Enter n value : \"))\n",
        "if(n == 0):\n",
        "  print(\"The number is Zero\")\n",
        "print(\"It is not a zero\")\n"
      ],
      "metadata": {
        "id": "7U0b7kdb5_0U",
        "colab": {
          "base_uri": "https://localhost:8080/"
        },
        "outputId": "aab27793-f0f8-416c-82bd-7edb12c68c24"
      },
      "execution_count": null,
      "outputs": [
        {
          "output_type": "stream",
          "name": "stdout",
          "text": [
            "Enter n value : 9\n",
            "It is not a zero\n"
          ]
        }
      ]
    },
    {
      "cell_type": "code",
      "source": [
        "#if else\n",
        "n = int(input(\"Enter n value : \"))\n",
        "if(n % 2 == 0):\n",
        "  print(\"The value\",n,\"is even\")\n",
        "else:\n",
        "  print(\"The value\",n,\"is odd\")"
      ],
      "metadata": {
        "colab": {
          "base_uri": "https://localhost:8080/"
        },
        "id": "zcdVI9uC-sKP",
        "outputId": "4ded60cb-7757-4a36-aadc-2f7050f024eb"
      },
      "execution_count": null,
      "outputs": [
        {
          "output_type": "stream",
          "name": "stdout",
          "text": [
            "Enter n value : 7\n",
            "The value 7 is odd\n"
          ]
        }
      ]
    },
    {
      "cell_type": "code",
      "source": [
        "#if elif else\n",
        "ch = input(\"Enter any character : \")\n",
        "if(ch == 'a' or ch == 'e' or ch == 'i' or ch == 'o' or ch == 'u' or ch == 'A' or ch == 'E' or ch == 'I' or ch == 'O' or ch == 'U'):\n",
        "  print(\"The character\",ch,\"is a vowel\")\n",
        "elif((ch >= 'a' and ch <= 'z') or (ch >= 'A' and ch <= 'Z')):\n",
        "  print(\"The character\",ch,\"is a consonent\")\n",
        "else:\n",
        "  print(\" It is not a character\")"
      ],
      "metadata": {
        "colab": {
          "base_uri": "https://localhost:8080/"
        },
        "id": "jNnfP-v8_vWX",
        "outputId": "10028499-4d37-4e91-a0bf-bf1bf51d616a"
      },
      "execution_count": null,
      "outputs": [
        {
          "output_type": "stream",
          "name": "stdout",
          "text": [
            "Enter any character : k\n",
            "The character k is a consonent\n"
          ]
        }
      ]
    },
    {
      "cell_type": "markdown",
      "source": [
        "** String Manupulations **"
      ],
      "metadata": {
        "id": "BW3o5oB7CyWe"
      }
    },
    {
      "cell_type": "code",
      "source": [
        "#concatination\n",
        "a = \"Main Flow\"\n",
        "print(a)\n",
        "b = \"Services and Technologies\"\n",
        "print(b)\n",
        "c = a+b\n",
        "print(c)"
      ],
      "metadata": {
        "colab": {
          "base_uri": "https://localhost:8080/"
        },
        "id": "T_hjxe90CXmn",
        "outputId": "45bda34e-efee-488d-b203-cc9668f6f228"
      },
      "execution_count": null,
      "outputs": [
        {
          "output_type": "stream",
          "name": "stdout",
          "text": [
            "Main Flow\n",
            "Services and Technologies\n",
            "Main FlowServices and Technologies\n"
          ]
        }
      ]
    },
    {
      "cell_type": "code",
      "source": [
        "#slicing\n",
        "a = \"AICTE\"\n",
        "print(a)\n",
        "print(a[:5-1])"
      ],
      "metadata": {
        "colab": {
          "base_uri": "https://localhost:8080/"
        },
        "id": "hTEf6V8eG-Lo",
        "outputId": "1c70b8b6-fc49-49ef-9ba8-b03df8e80228"
      },
      "execution_count": null,
      "outputs": [
        {
          "output_type": "stream",
          "name": "stdout",
          "text": [
            "AICTE\n",
            "AICT\n"
          ]
        }
      ]
    },
    {
      "cell_type": "code",
      "source": [
        "#uppercase\n",
        "a = \"MAIN FLOW SERVICES AND TECHNOLOGIES\"\n",
        "print(a)\n",
        "up_case = a.upper()\n",
        "print(up_case)"
      ],
      "metadata": {
        "colab": {
          "base_uri": "https://localhost:8080/"
        },
        "id": "xcP5My8xHfVA",
        "outputId": "478330a7-402e-4f0e-ed58-3bd980a23e3d"
      },
      "execution_count": null,
      "outputs": [
        {
          "output_type": "stream",
          "name": "stdout",
          "text": [
            "MAIN FLOW SERVICES AND TECHNOLOGIES\n",
            "MAIN FLOW SERVICES AND TECHNOLOGIES\n"
          ]
        }
      ]
    },
    {
      "cell_type": "code",
      "source": [
        "#lowercase\n",
        "a = \"MAIN FLOW SERVICES AND TECHNOLOGIES\"\n",
        "print(a)\n",
        "lo_case = a.lower()\n",
        "print(lo_case)"
      ],
      "metadata": {
        "colab": {
          "base_uri": "https://localhost:8080/"
        },
        "id": "LkOL4eObISXh",
        "outputId": "e705e77a-4008-4e9d-d82f-321daa08ea5c"
      },
      "execution_count": null,
      "outputs": [
        {
          "output_type": "stream",
          "name": "stdout",
          "text": [
            "MAIN FLOW SERVICES AND TECHNOLOGIES\n",
            "main flow services and technologies\n"
          ]
        }
      ]
    },
    {
      "cell_type": "code",
      "source": [
        "#splitting\n",
        "a = \"MAIN FLOW SERVICES AND TECHNOLOGIES\"\n",
        "print(a)\n",
        "print(a.split())"
      ],
      "metadata": {
        "colab": {
          "base_uri": "https://localhost:8080/"
        },
        "id": "_3SzIaqlIgiT",
        "outputId": "085c099a-ba2d-4577-fc0d-08b4bbe07531"
      },
      "execution_count": null,
      "outputs": [
        {
          "output_type": "stream",
          "name": "stdout",
          "text": [
            "MAIN FLOW SERVICES AND TECHNOLOGIES\n",
            "['MAIN', 'FLOW', 'SERVICES', 'AND', 'TECHNOLOGIES']\n"
          ]
        }
      ]
    },
    {
      "cell_type": "code",
      "source": [
        "#replacing\n",
        "a = \"India is my country\"\n",
        "print(a)\n",
        "print(a.replace(\"India\",\"Bharat\"))"
      ],
      "metadata": {
        "colab": {
          "base_uri": "https://localhost:8080/"
        },
        "id": "tGV83YFnI1yJ",
        "outputId": "7552b057-191b-4c63-aa27-61bd7080b0f7"
      },
      "execution_count": null,
      "outputs": [
        {
          "output_type": "stream",
          "name": "stdout",
          "text": [
            "India is my country\n",
            "Bharat is my country\n"
          ]
        }
      ]
    },
    {
      "cell_type": "markdown",
      "source": [
        "** LIST : Collection of elements which are enclosed with [ ] **"
      ],
      "metadata": {
        "id": "871ky0ZwJrhS"
      }
    },
    {
      "cell_type": "markdown",
      "source": [
        "List operations"
      ],
      "metadata": {
        "id": "SRr2vxjbUwdE"
      }
    },
    {
      "cell_type": "code",
      "source": [
        "#creating\n",
        "l = [2,5,3,8,6,4]\n",
        "print(\"Elements in the list are \",l)\n",
        "#appending\n",
        "l.append(7)\n",
        "print(\"After appending, the list is \",l)\n",
        "#removing\n",
        "l.remove(8)\n",
        "print(\"After removing 1 element, the list is \",l)\n",
        "#slicing\n",
        "l[:6]\n",
        "print(\"After slicing, the list is \",l)\n",
        "#inserting\n",
        "l.insert(1,10)\n",
        "print(\"After inserting, the list is \",l)\n",
        "#popping\n",
        "popped_ele = l.pop()\n",
        "print(\"Popped element is \",popped_ele)\n",
        "#sorting\n",
        "l.sort()\n",
        "print(\"Sorted list is \",l)\n",
        "#reversing\n",
        "l.reverse()\n",
        "print(\"Reversed list is \",l)\n",
        "#length\n",
        "print(\"Length of the list is \",len(l))\n",
        "#min\n",
        "print(\"Min value of the list is\",min(l))\n",
        "#max\n",
        "print(\"Max value of the list is \",max(l))\n",
        "#sum\n",
        "print(\"Sum of the list is \",sum(l))\n"
      ],
      "metadata": {
        "colab": {
          "base_uri": "https://localhost:8080/"
        },
        "id": "Vbc6lYUBJtxZ",
        "outputId": "8638c94d-7203-484b-ef56-1166069b89f3"
      },
      "execution_count": null,
      "outputs": [
        {
          "output_type": "stream",
          "name": "stdout",
          "text": [
            "Elements in the list are  [2, 5, 3, 8, 6, 4]\n",
            "After appending, the list is  [2, 5, 3, 8, 6, 4, 7]\n",
            "After removing 1 element, the list is  [2, 5, 3, 6, 4, 7]\n",
            "After slicing, the list is  [2, 5, 3, 6, 4, 7]\n",
            "After inserting, the list is  [2, 10, 5, 3, 6, 4, 7]\n",
            "Popped element is  7\n",
            "Sorted list is  [2, 3, 4, 5, 6, 10]\n",
            "Reversed list is  [10, 6, 5, 4, 3, 2]\n",
            "Length of the list is  6\n",
            "Min value of the list is 2\n",
            "Max value of the list is  10\n",
            "Sum of the list is  30\n"
          ]
        }
      ]
    },
    {
      "cell_type": "markdown",
      "source": [
        "** TUPLE : Tuple is a collection of elements which are enclosed with ( ) **"
      ],
      "metadata": {
        "id": "S0IzNm2bO8CP"
      }
    },
    {
      "cell_type": "markdown",
      "source": [
        "Tuple operations"
      ],
      "metadata": {
        "id": "HKa_G4EfVHby"
      }
    },
    {
      "cell_type": "code",
      "source": [
        "#concatination\n",
        "t1 = (1,2,3,4,'hii')\n",
        "t2 = ('me','you',5,6)\n",
        "t3 = t1 + t2\n",
        "print(t3)"
      ],
      "metadata": {
        "colab": {
          "base_uri": "https://localhost:8080/"
        },
        "id": "kBdkDjqxPHQA",
        "outputId": "d60078ee-fbdb-49c6-8af9-5e1416e28eed"
      },
      "execution_count": null,
      "outputs": [
        {
          "output_type": "stream",
          "name": "stdout",
          "text": [
            "(1, 2, 3, 4, 'hii', 'me', 'you', 5, 6)\n"
          ]
        }
      ]
    },
    {
      "cell_type": "code",
      "source": [
        "t = (1,2,3,4,5)\n",
        "#max\n",
        "print(max(t))\n",
        "#min\n",
        "print(min(t))\n",
        "#sum\n",
        "print(sum(t))\n",
        "#length\n",
        "print(len(t))"
      ],
      "metadata": {
        "colab": {
          "base_uri": "https://localhost:8080/"
        },
        "id": "khsptP2KRq7_",
        "outputId": "b5c62fc3-a659-4921-cf86-221d695f092a"
      },
      "execution_count": null,
      "outputs": [
        {
          "output_type": "stream",
          "name": "stdout",
          "text": [
            "5\n",
            "1\n",
            "15\n",
            "5\n"
          ]
        }
      ]
    },
    {
      "cell_type": "markdown",
      "source": [
        "** Dictionary : Collection of un orderd elements which are enclosed with { } **"
      ],
      "metadata": {
        "id": "v68_LsuXSNQ-"
      }
    },
    {
      "cell_type": "markdown",
      "source": [
        "Dictionary operations"
      ],
      "metadata": {
        "id": "srhCaHPRV8YB"
      }
    },
    {
      "cell_type": "code",
      "source": [
        "#creating\n",
        "d = {1 : \"hi\", 2 : \"hello\", 3 : \"me\", 4 : \"you\"}\n",
        "print(d)\n",
        "#adding a key - value\n",
        "d[5] = \"she\"\n",
        "print(d)\n",
        "#modifying\n",
        "d[4] = \"he\"\n",
        "print(d)\n",
        "#del\n",
        "del d[2]\n",
        "print(d)\n",
        "#values\n",
        "print(d.values())\n",
        "#keys\n",
        "print(d.keys())\n",
        "#items\n",
        "print(d.items())\n",
        "#copy\n",
        "a = d.copy()\n",
        "print(a)\n",
        "#popping\n",
        "print(d.pop(1))\n",
        "print(d)\n",
        "#clear\n",
        "d.clear()\n",
        "print(d)"
      ],
      "metadata": {
        "colab": {
          "base_uri": "https://localhost:8080/"
        },
        "id": "mhI03aCwSQmH",
        "outputId": "20103189-a623-4478-b848-92ff0bd73488"
      },
      "execution_count": null,
      "outputs": [
        {
          "output_type": "stream",
          "name": "stdout",
          "text": [
            "{1: 'hi', 2: 'hello', 3: 'me', 4: 'you'}\n",
            "{1: 'hi', 2: 'hello', 3: 'me', 4: 'you', 5: 'she'}\n",
            "{1: 'hi', 2: 'hello', 3: 'me', 4: 'he', 5: 'she'}\n",
            "{1: 'hi', 3: 'me', 4: 'he', 5: 'she'}\n",
            "dict_values(['hi', 'me', 'he', 'she'])\n",
            "dict_keys([1, 3, 4, 5])\n",
            "dict_items([(1, 'hi'), (3, 'me'), (4, 'he'), (5, 'she')])\n",
            "{1: 'hi', 3: 'me', 4: 'he', 5: 'she'}\n",
            "hi\n",
            "{3: 'me', 4: 'he', 5: 'she'}\n",
            "{}\n"
          ]
        }
      ]
    }
  ]
}